{
 "cells": [
  {
   "cell_type": "code",
   "execution_count": 9,
   "metadata": {},
   "outputs": [
    {
     "name": "stdout",
     "output_type": "stream",
     "text": [
      "Requirement already satisfied: numpy in c:\\users\\yaz008\\appdata\\local\\programs\\python\\python312\\lib\\site-packages (2.1.0)\n",
      "Requirement already satisfied: matplotlib in c:\\users\\yaz008\\appdata\\local\\programs\\python\\python312\\lib\\site-packages (3.9.2)\n",
      "Requirement already satisfied: opencv-python in c:\\users\\yaz008\\appdata\\local\\programs\\python\\python312\\lib\\site-packages (4.10.0.84)\n",
      "Requirement already satisfied: contourpy>=1.0.1 in c:\\users\\yaz008\\appdata\\local\\programs\\python\\python312\\lib\\site-packages (from matplotlib) (1.3.0)\n",
      "Requirement already satisfied: cycler>=0.10 in c:\\users\\yaz008\\appdata\\local\\programs\\python\\python312\\lib\\site-packages (from matplotlib) (0.12.1)\n",
      "Requirement already satisfied: fonttools>=4.22.0 in c:\\users\\yaz008\\appdata\\local\\programs\\python\\python312\\lib\\site-packages (from matplotlib) (4.53.1)\n",
      "Requirement already satisfied: kiwisolver>=1.3.1 in c:\\users\\yaz008\\appdata\\local\\programs\\python\\python312\\lib\\site-packages (from matplotlib) (1.4.5)\n",
      "Requirement already satisfied: packaging>=20.0 in c:\\users\\yaz008\\appdata\\local\\programs\\python\\python312\\lib\\site-packages (from matplotlib) (24.1)\n",
      "Requirement already satisfied: pillow>=8 in c:\\users\\yaz008\\appdata\\local\\programs\\python\\python312\\lib\\site-packages (from matplotlib) (10.4.0)\n",
      "Requirement already satisfied: pyparsing>=2.3.1 in c:\\users\\yaz008\\appdata\\local\\programs\\python\\python312\\lib\\site-packages (from matplotlib) (3.1.4)\n",
      "Requirement already satisfied: python-dateutil>=2.7 in c:\\users\\yaz008\\appdata\\local\\programs\\python\\python312\\lib\\site-packages (from matplotlib) (2.9.0.post0)\n",
      "Requirement already satisfied: six>=1.5 in c:\\users\\yaz008\\appdata\\local\\programs\\python\\python312\\lib\\site-packages (from python-dateutil>=2.7->matplotlib) (1.16.0)\n",
      "Note: you may need to restart the kernel to use updated packages.\n"
     ]
    }
   ],
   "source": [
    "%pip install numpy matplotlib opencv-python"
   ]
  },
  {
   "cell_type": "code",
   "execution_count": 10,
   "metadata": {},
   "outputs": [],
   "source": [
    "import numpy as np\n",
    "import matplotlib.pyplot as plt\n",
    "import os, cv2, glob"
   ]
  },
  {
   "cell_type": "code",
   "execution_count": 11,
   "metadata": {},
   "outputs": [],
   "source": [
    "sigma, b, r = 10, 8./3., 470./19.\n",
    "npts, dt = 4000, 0.01\n",
    "x, y, z, xp = np.zeros(npts), np.zeros(npts), np.zeros(npts), np.zeros(npts)\n",
    "x[0], y[0], z[0] = 0.0, 2.0, 2.0"
   ]
  },
  {
   "cell_type": "code",
   "execution_count": 12,
   "metadata": {},
   "outputs": [],
   "source": [
    "if not os.path.exists('./fig'): os.makedirs('./fig')\n",
    "sample_freq, k = 10, 0"
   ]
  },
  {
   "cell_type": "code",
   "execution_count": 13,
   "metadata": {},
   "outputs": [],
   "source": [
    "for i in range(npts-1):\n",
    "    dxdt, dydt, dzdt = -sigma * x[i] + sigma * y[i], -x[i]*z[i] + r*x[i] - y[i], x[i]*y[i] - b*z[i]\n",
    "    x[i+1], y[i+1], z[i+1], xp[i] = x[i] + dt * dxdt, y[i] + dt * dydt, z[i] + dt * dzdt, dt * i\n",
    "    if i % sample_freq == 0:\n",
    "        k += 1\n",
    "        fig, axs = plt.subplots(2, 3, figsize=(10, 5))\n",
    "        axs[0, 0].plot(xp[:i], x[:i]), axs[0, 1].plot(xp[:i], y[:i]), axs[0, 2].plot(xp[:i], z[:i])\n",
    "        axs[1, 0].plot(x[:i], y[:i]), axs[1, 1].plot(y[:i], z[:i]), axs[1, 2].plot(x[:i], z[:i])\n",
    "        for ax in axs.flat: ax.plot(xp[i-2:i], x[i-2:i], 'o')\n",
    "        plt.tight_layout(), plt.savefig(f\"./fig/{k:05}.png\"), plt.close(fig)"
   ]
  },
  {
   "cell_type": "code",
   "execution_count": 14,
   "metadata": {},
   "outputs": [],
   "source": [
    "jpg_files = sorted(glob.glob('./fig/*.png'))\n",
    "height, width, _ = cv2.imread(jpg_files[0]).shape\n",
    "out = cv2.VideoWriter(\"lorenz.mp4\", cv2.VideoWriter_fourcc(*'mp4v'), 10.0, (width, height))"
   ]
  },
  {
   "cell_type": "code",
   "execution_count": 15,
   "metadata": {},
   "outputs": [
    {
     "name": "stdout",
     "output_type": "stream",
     "text": [
      "lorenz.mp4 is created\n"
     ]
    },
    {
     "data": {
      "text/plain": [
       "(None, None, None)"
      ]
     },
     "execution_count": 15,
     "metadata": {},
     "output_type": "execute_result"
    }
   ],
   "source": [
    "for jpg in jpg_files: out.write(cv2.imread(jpg))\n",
    "out.release(), cv2.destroyAllWindows(), print(\"lorenz.mp4 is created\")"
   ]
  }
 ],
 "metadata": {
  "kernelspec": {
   "display_name": "Python 3",
   "language": "python",
   "name": "python3"
  },
  "language_info": {
   "codemirror_mode": {
    "name": "ipython",
    "version": 3
   },
   "file_extension": ".py",
   "mimetype": "text/x-python",
   "name": "python",
   "nbconvert_exporter": "python",
   "pygments_lexer": "ipython3",
   "version": "3.12.4"
  }
 },
 "nbformat": 4,
 "nbformat_minor": 2
}
